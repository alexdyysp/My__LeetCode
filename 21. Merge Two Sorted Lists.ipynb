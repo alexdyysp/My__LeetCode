{
 "cells": [
  {
   "cell_type": "code",
   "execution_count": 8,
   "metadata": {},
   "outputs": [
    {
     "name": "stdout",
     "output_type": "stream",
     "text": [
      "1 ->3 ->5 ->\n",
      "1 ->2 ->6 ->\n"
     ]
    }
   ],
   "source": [
    "# Definition for singly-linked list.\n",
    "class ListNode:\n",
    "    def __init__(self, x):\n",
    "        self.val = x\n",
    "        self.next = None\n",
    "\n",
    "class Solution:\n",
    "    def mergeTwoLists(self, l1, l2):\n",
    "        \"\"\"\n",
    "        :type l1: ListNode\n",
    "        :type l2: ListNode\n",
    "        :rtype: ListNode\n",
    "        \"\"\"\n",
    "        head = dummy = ListNode(-1)\n",
    "        h = ListNode(-1)\n",
    "        while l1 and l2 :\n",
    "            if l1.val < l2.val:\n",
    "                head.next = l1\n",
    "                l1 = l1.next\n",
    "            else :\n",
    "                head.next = l2\n",
    "                l2 = l2.next\n",
    "            head = head.next\n",
    "        if l1:\n",
    "            head.next = l1\n",
    "        if l2:\n",
    "            head.next = l2\n",
    "        return dummy.next\n",
    "    \n",
    "    def merge_by_recurison(self,l1,l2):\n",
    "        \"\"\"\n",
    "        :type l1: ListNode\n",
    "        :type l2: ListNode\n",
    "        :rtype: ListNode\n",
    "        \"\"\"\n",
    "        if l1 : \n",
    "            return l2\n",
    "        if l2 : \n",
    "            return l1\n",
    "        if l1.val < l2.val :\n",
    "            l1.next = merge_by_recurison(self,l1.next,l2);\n",
    "            return l1\n",
    "        else: \n",
    "            l2.next = merge_by_recurison(self,l2.next,l1);\n",
    "            return l2\n",
    "if __name__ == \"__main__\":\n",
    "    a1 = ListNode(1)\n",
    "    a1.next = ListNode(3)\n",
    "    a1.next.next = ListNode(5)\n",
    "    b1 = ListNode(1)\n",
    "    b1.next = ListNode(2)\n",
    "    b1.next.next = ListNode(6)\n",
    "    while a1:\n",
    "        print(a1.val,\"->\",end='')\n",
    "        a1 = a1.next\n",
    "    print(\"\")\n",
    "    while b1:\n",
    "        print(b1.val,\"->\",end='')\n",
    "        b1 = b1.next\n",
    "    print(\"\")\n",
    "    S = Solution().mergeTwoLists(a1,b1)\n",
    "    print\n",
    "    while S:\n",
    "        print(S.val,\"->\",end='')\n",
    "        S = S.next\n",
    "    #Solution.merge_by_recurison(\"default2\",a1,b1)"
   ]
  },
  {
   "cell_type": "code",
   "execution_count": null,
   "metadata": {},
   "outputs": [],
   "source": []
  }
 ],
 "metadata": {
  "kernelspec": {
   "display_name": "Python 3",
   "language": "python",
   "name": "python3"
  },
  "language_info": {
   "codemirror_mode": {
    "name": "ipython",
    "version": 3
   },
   "file_extension": ".py",
   "mimetype": "text/x-python",
   "name": "python",
   "nbconvert_exporter": "python",
   "pygments_lexer": "ipython3",
   "version": "3.5.2"
  }
 },
 "nbformat": 4,
 "nbformat_minor": 2
}
