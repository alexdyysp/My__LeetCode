{
 "cells": [
  {
   "cell_type": "code",
   "execution_count": 3,
   "metadata": {},
   "outputs": [
    {
     "name": "stdout",
     "output_type": "stream",
     "text": [
      "[1, 2, 3]\n",
      "[2, 3, 1]\n"
     ]
    }
   ],
   "source": [
    "# Definition for a binary tree node.\n",
    "class TreeNode:\n",
    "    def __init__(self, x):\n",
    "        self.val = x\n",
    "        self.left = None\n",
    "        self.right = None\n",
    "\n",
    "class Solution:\n",
    "    # recursively\n",
    "    def preorderTraversal_pre1(self, root):\n",
    "        res = []\n",
    "        self.dfs_pre(root, res)\n",
    "        return res\n",
    "    \n",
    "    def preorderTraversal_post(self, root):\n",
    "        res = []\n",
    "        self.dfs_post(root, res)\n",
    "        return res\n",
    "\n",
    "    def dfs_pre(self, root, res):\n",
    "        if root:\n",
    "            res.append(root.val)\n",
    "            self.dfs_pre(root.left, res)\n",
    "            self.dfs_pre(root.right, res)\n",
    "\n",
    "    def dfs_post(self,root,res):\n",
    "        if root:\n",
    "            self.dfs_post(root.left, res)\n",
    "            self.dfs_post(root.right, res)\n",
    "            res.append(root.val)\n",
    "            \n",
    "    # iteratively\n",
    "    def preorderTraversal2(self, root):\n",
    "        stack, res = [root], []\n",
    "        while stack:\n",
    "            node = stack.pop()\n",
    "            if node:\n",
    "                res.append(node.val)\n",
    "                stack.append(node.right)\n",
    "                stack.append(node.left)\n",
    "        return res\n",
    "\n",
    "if __name__ == \"__main__\":\n",
    "    BT = TreeNode(1)\n",
    "    BT.left = TreeNode(2)\n",
    "    BT.right = TreeNode(3)\n",
    "    res_pre = Solution().preorderTraversal_pre1(BT)\n",
    "    res_post = Solution().preorderTraversal_post(BT)\n",
    "    print(res_pre)\n",
    "    print(res_post)"
   ]
  },
  {
   "cell_type": "code",
   "execution_count": null,
   "metadata": {},
   "outputs": [],
   "source": []
  }
 ],
 "metadata": {
  "kernelspec": {
   "display_name": "Python 3",
   "language": "python",
   "name": "python3"
  },
  "language_info": {
   "codemirror_mode": {
    "name": "ipython",
    "version": 3
   },
   "file_extension": ".py",
   "mimetype": "text/x-python",
   "name": "python",
   "nbconvert_exporter": "python",
   "pygments_lexer": "ipython3",
   "version": "3.5.2"
  }
 },
 "nbformat": 4,
 "nbformat_minor": 2
}
