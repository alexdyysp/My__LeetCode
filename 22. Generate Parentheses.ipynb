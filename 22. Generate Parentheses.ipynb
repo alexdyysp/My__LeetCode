{
 "cells": [
  {
   "cell_type": "code",
   "execution_count": 11,
   "metadata": {
    "scrolled": true
   },
   "outputs": [
    {
     "name": "stdout",
     "output_type": "stream",
     "text": [
      "The result is ： \n",
      "['((()))']\n",
      "right recursion : ((()))\n",
      "right recursion : ((())\n",
      "right recursion : ((()\n",
      "left recursion :  (((\n",
      "['((()))', '(()())']\n",
      "right recursion : (()())\n",
      "right recursion : (()()\n",
      "left recursion :  (()(\n",
      "['((()))', '(()())', '(())()']\n",
      "right recursion : (())()\n",
      "left recursion :  (())(\n",
      "right recursion : (())\n",
      "right recursion : (()\n",
      "left recursion :  ((\n",
      "['((()))', '(()())', '(())()', '()(())']\n",
      "right recursion : ()(())\n",
      "right recursion : ()(()\n",
      "left recursion :  ()((\n",
      "['((()))', '(()())', '(())()', '()(())', '()()()']\n",
      "right recursion : ()()()\n",
      "left recursion :  ()()(\n",
      "right recursion : ()()\n",
      "left recursion :  ()(\n",
      "right recursion : ()\n",
      "left recursion :  (\n"
     ]
    },
    {
     "data": {
      "text/plain": [
       "['((()))', '(()())', '(())()', '()(())', '()()()']"
      ]
     },
     "execution_count": 11,
     "metadata": {},
     "output_type": "execute_result"
    }
   ],
   "source": [
    "class Solution(object):\n",
    "    def generateParenthesis(self, N):\n",
    "        ans = []\n",
    "        def backtrack(S = '', left = 0, right = 0):\n",
    "            if len(S) == 2 * N:  #递归出口，当字符串满时退出递归\n",
    "                ans.append(S)\n",
    "                print(ans)\n",
    "                return\n",
    "            if left < N:\n",
    "                backtrack(S+'(', left+1, right)\n",
    "                print(\"left recursion : \",S+'(')\n",
    "            if right < left:\n",
    "                backtrack(S+')', left, right+1)\n",
    "                print(\"right recursion :\",S+')')\n",
    "\n",
    "        backtrack()\n",
    "        return ans\n",
    "#为什么能列举出所有，我怎么看着只能输出一个ANS\n",
    "print(\"The result is ： \")\n",
    "Solution.generateParenthesis(\"def\",3)"
   ]
  },
  {
   "cell_type": "code",
   "execution_count": null,
   "metadata": {},
   "outputs": [],
   "source": []
  }
 ],
 "metadata": {
  "kernelspec": {
   "display_name": "Python 3",
   "language": "python",
   "name": "python3"
  },
  "language_info": {
   "codemirror_mode": {
    "name": "ipython",
    "version": 3
   },
   "file_extension": ".py",
   "mimetype": "text/x-python",
   "name": "python",
   "nbconvert_exporter": "python",
   "pygments_lexer": "ipython3",
   "version": "3.5.2"
  }
 },
 "nbformat": 4,
 "nbformat_minor": 2
}
