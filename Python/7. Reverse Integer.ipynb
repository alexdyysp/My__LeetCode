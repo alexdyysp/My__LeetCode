{
 "cells": [
  {
   "cell_type": "code",
   "execution_count": 13,
   "metadata": {},
   "outputs": [
    {
     "name": "stdout",
     "output_type": "stream",
     "text": [
      "321\n",
      "-321\n",
      "12\n",
      "0\n"
     ]
    }
   ],
   "source": [
    "#\n",
    "class Solution:\n",
    "    def reverse(self, x):\n",
    "        \"\"\"\n",
    "        :type x: int\n",
    "        :rtype: int\n",
    "        \"\"\"\n",
    "        sign = x < 0 and -1 or 1\n",
    "        x = abs(x)\n",
    "        ans = 0\n",
    "        while x:\n",
    "            ans = ans * 10 + x % 10\n",
    "            x = int(x/10)\n",
    "            #print(ans)\n",
    "        return sign * ans if ans <= 0x7fffffff else 0\n",
    "\n",
    "a1 = 123\n",
    "a2 = -123\n",
    "a3 = 210\n",
    "a4 = 241523555555555555\n",
    "print(Solution.reverse(Solution,a1))\n",
    "print(Solution.reverse(Solution,a2))\n",
    "print(Solution.reverse(Solution,a3))\n",
    "print(Solution.reverse(Solution,a4))\n"
   ]
  },
  {
   "cell_type": "code",
   "execution_count": null,
   "metadata": {},
   "outputs": [],
   "source": []
  }
 ],
 "metadata": {
  "kernelspec": {
   "display_name": "Python 3",
   "language": "python",
   "name": "python3"
  },
  "language_info": {
   "codemirror_mode": {
    "name": "ipython",
    "version": 3
   },
   "file_extension": ".py",
   "mimetype": "text/x-python",
   "name": "python",
   "nbconvert_exporter": "python",
   "pygments_lexer": "ipython3",
   "version": "3.5.2"
  }
 },
 "nbformat": 4,
 "nbformat_minor": 2
}
