{
 "cells": [
  {
   "cell_type": "code",
   "execution_count": 1,
   "metadata": {},
   "outputs": [
    {
     "name": "stdout",
     "output_type": "stream",
     "text": [
      "True\n"
     ]
    }
   ],
   "source": [
    "#!python3\n",
    "# Definition for singly-linked list.\n",
    "class ListNode:\n",
    "    def __init__(self, x):\n",
    "        self.val = x\n",
    "        self.next = None\n",
    "\n",
    "\n",
    "class Solution:\n",
    "    def addTwoNumbers(self, l1, l2):\n",
    "        \"\"\"\n",
    "        :type l1: ListNode\n",
    "        :type l2: ListNode\n",
    "        :rtype: ListNode\n",
    "        \"\"\"\n",
    "        head = ListNode(0)\n",
    "        p = head\n",
    "        quot = 0\n",
    "        while l1 or l2 or quot != 0:\n",
    "            if l1:\n",
    "                quot += l1.val\n",
    "                l1 = l1.next\n",
    "            if l2:\n",
    "                quot += l2.val\n",
    "                l2 = l2.next\n",
    "            quot, rem = divmod(quot, 10)\n",
    "            p.next = ListNode(rem)\n",
    "            p = p.next\n",
    "\n",
    "        return head.next\n",
    "\n",
    "\n",
    "def compareLinkedList(l1, l2):\n",
    "    while l1 or l2:\n",
    "        if not (l1 and l2) or l1.val != l2.val:\n",
    "            return False\n",
    "        l1 = l1.next\n",
    "        l2 = l2.next\n",
    "    return True\n",
    "\n",
    "\n",
    "if __name__ == \"__main__\":\n",
    "    l1 = ListNode(2)\n",
    "    l1.next = ListNode(4)\n",
    "    l1.next.next = ListNode(3)\n",
    "    l2 = ListNode(5)\n",
    "    l2.next = ListNode(6)\n",
    "    l2.next.next = ListNode(4)\n",
    "    lsum = ListNode(7)\n",
    "    lsum.next = ListNode(0)\n",
    "    lsum.next.next = ListNode(8)\n",
    "print(compareLinkedList(Solution().addTwoNumbers(l1, l2), lsum))"
   ]
  },
  {
   "cell_type": "code",
   "execution_count": null,
   "metadata": {},
   "outputs": [],
   "source": []
  }
 ],
 "metadata": {
  "kernelspec": {
   "display_name": "Python 3",
   "language": "python",
   "name": "python3"
  },
  "language_info": {
   "codemirror_mode": {
    "name": "ipython",
    "version": 3
   },
   "file_extension": ".py",
   "mimetype": "text/x-python",
   "name": "python",
   "nbconvert_exporter": "python",
   "pygments_lexer": "ipython3",
   "version": "3.5.2"
  }
 },
 "nbformat": 4,
 "nbformat_minor": 2
}
