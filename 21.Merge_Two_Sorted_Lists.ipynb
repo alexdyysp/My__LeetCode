{
 "cells": [
  {
   "cell_type": "code",
   "execution_count": 15,
   "metadata": {},
   "outputs": [
    {
     "name": "stdout",
     "output_type": "stream",
     "text": [
      "1 ->3 ->5 ->None\n",
      "1 ->2 ->6 ->None\n",
      "the way of for is :\n",
      "1 ->1 ->2 ->3 ->5 ->6 ->None\n",
      "the way of recurison is :\n",
      "1 ->1 ->2 ->3 ->5 ->6 ->None\n"
     ]
    }
   ],
   "source": [
    "#Definition for singly-linked list.\n",
    "class ListNode:\n",
    "    def __init__(self, x):\n",
    "        self.val = x\n",
    "        self.next = None\n",
    "        \n",
    "class Solution:\n",
    "    def mergeTwoLists(self, l1, l2):\n",
    "        \"\"\"\n",
    "        :type l1: ListNode\n",
    "        :type l2: ListNode\n",
    "        :rtype: ListNode\n",
    "        \"\"\"\n",
    "        head = ListNode(None)\n",
    "        dummy = head\n",
    "        h = ListNode(None)\n",
    "        while l1 and l2 :\n",
    "            if l1.val < l2.val:\n",
    "                head.next = l1\n",
    "                l1 = l1.next\n",
    "            else :\n",
    "                head.next = l2\n",
    "                l2 = l2.next\n",
    "            head = head.next\n",
    "        if l1:\n",
    "            head.next = l1\n",
    "        if l2:\n",
    "            head.next = l2\n",
    "        return dummy.next\n",
    "    \n",
    "    def merge_by_recurison(self,l1,l2):\n",
    "        \"\"\"\n",
    "        :type l1: ListNode\n",
    "        :type l2: ListNode\n",
    "        :rtype: ListNode\n",
    "        \"\"\"\n",
    "        if l1 : \n",
    "            return l2\n",
    "        if l2 : \n",
    "            return l1\n",
    "        if l1.val < l2.val :\n",
    "            l1.next = merge_by_recurison(l1.next,l2);\n",
    "            return l1\n",
    "        else: \n",
    "            l2.next = merge_by_recurison(l2.next,l1);\n",
    "            return l2\n",
    "    def print_List(self,pr):\n",
    "        #print(\"The list of\",str(self),\" is :\")\n",
    "        while pr:\n",
    "            print(pr.val,\"->\",end='')\n",
    "            pr = pr.next\n",
    "        print(\"None\")\n",
    "if __name__ == \"__main__\":\n",
    "    a1 = ListNode(1)\n",
    "    a1.next = ListNode(3)\n",
    "    a1.next.next = ListNode(5)\n",
    "    b1 = ListNode(1)\n",
    "    b1.next = ListNode(2)\n",
    "    b1.next.next = ListNode(6)\n",
    "    Solution().print_List(a1)\n",
    "    Solution().print_List(b1)\n",
    "    S = Solution().mergeTwoLists(a1,b1)\n",
    "    print(\"the way of for is :\")\n",
    "    Solution().print_List(S)\n",
    "    SS = Solution().merge_by_recurison(a1,b1)\n",
    "    print(\"the way of recurison is :\")\n",
    "    Solution().print_List(SS)"
   ]
  },
  {
   "cell_type": "code",
   "execution_count": null,
   "metadata": {},
   "outputs": [],
   "source": []
  }
 ],
 "metadata": {
  "kernelspec": {
   "display_name": "Python 3",
   "language": "python",
   "name": "python3"
  },
  "language_info": {
   "codemirror_mode": {
    "name": "ipython",
    "version": 3
   },
   "file_extension": ".py",
   "mimetype": "text/x-python",
   "name": "python",
   "nbconvert_exporter": "python",
   "pygments_lexer": "ipython3",
   "version": "3.5.2"
  }
 },
 "nbformat": 4,
 "nbformat_minor": 2
}
