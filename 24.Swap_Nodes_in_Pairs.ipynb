{
 "cells": [
  {
   "cell_type": "code",
   "execution_count": 28,
   "metadata": {},
   "outputs": [
    {
     "name": "stdout",
     "output_type": "stream",
     "text": [
      "1 ->2 ->3 ->4 ->None\n",
      "2 ->1 ->4 ->3 ->None\n"
     ]
    }
   ],
   "source": [
    "#Definition for singly-linked list.\n",
    "class ListNode:\n",
    "    def __init__(self, x):\n",
    "        self.val = x\n",
    "        self.next = None\n",
    "\n",
    "class Solution:\n",
    "    def swapPairs(self, head):\n",
    "        \"\"\"\n",
    "        :type head: ListNode\n",
    "        :rtype: ListNode\n",
    "        \"\"\"\n",
    "        #核心算法不适用于0或1结点\n",
    "        if head == None or head.next == None:\n",
    "            return head\n",
    "        p = head\n",
    "        q = head.next\n",
    "        head = head.next\n",
    "        k = p\n",
    "        #核心循环\n",
    "        while p and p.next:\n",
    "            #swap：p与q作swap\n",
    "            p.next = q.next\n",
    "            q.next = p\n",
    "            #move：移动指针，p和q配对后移，可能会出现p为空的情况，则q不能跟着移动\n",
    "            k = p\n",
    "            p = p.next\n",
    "            if p == None:\n",
    "                break\n",
    "            q = p.next\n",
    "            #link\n",
    "            #移动后若q为空，则不能为下一次swap作链接\n",
    "            if q:\n",
    "                k.next = q\n",
    "        return head\n",
    "\n",
    "    def print_List(self,pr):\n",
    "        #print(\"The list of\",str(self),\" is :\")\n",
    "        while pr:\n",
    "            print(pr.val,\"->\",end='')\n",
    "            pr = pr.next\n",
    "        print(\"None\")\n",
    "        \n",
    "#\n",
    "a1 = ListNode(1)\n",
    "a1.next = ListNode(2)\n",
    "a1.next.next = ListNode(3)\n",
    "a1.next.next.next = ListNode(4)\n",
    "#a1.next.next.next.next = ListNode(5)\n",
    "#\n",
    "Solution().print_List(a1)\n",
    "#\n",
    "a1 = Solution().swapPairs(a1)\n",
    "Solution().print_List(a1)"
   ]
  },
  {
   "cell_type": "code",
   "execution_count": null,
   "metadata": {},
   "outputs": [],
   "source": []
  }
 ],
 "metadata": {
  "kernelspec": {
   "display_name": "Python 3",
   "language": "python",
   "name": "python3"
  },
  "language_info": {
   "codemirror_mode": {
    "name": "ipython",
    "version": 3
   },
   "file_extension": ".py",
   "mimetype": "text/x-python",
   "name": "python",
   "nbconvert_exporter": "python",
   "pygments_lexer": "ipython3",
   "version": "3.5.2"
  }
 },
 "nbformat": 4,
 "nbformat_minor": 2
}
