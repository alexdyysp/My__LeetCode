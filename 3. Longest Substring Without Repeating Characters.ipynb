{
 "cells": [
  {
   "cell_type": "code",
   "execution_count": 13,
   "metadata": {
    "scrolled": false
   },
   "outputs": [
    {
     "name": "stdout",
     "output_type": "stream",
     "text": [
      "{'a': 0}\n",
      "{'b': 1, 'a': 0}\n",
      "{'b': 1, 'c': 2, 'a': 0}\n",
      "{'b': 1, 'c': 2, 'a': 3}\n",
      "{'b': 4, 'c': 2, 'a': 3}\n",
      "{'b': 4, 'c': 5, 'a': 3}\n",
      "{'b': 6, 'c': 5, 'a': 3}\n",
      "{'b': 7, 'c': 5, 'a': 3}\n",
      "True\n",
      "{'a': 0}\n",
      "{'b': 1, 'a': 0}\n",
      "{'b': 2, 'a': 0}\n",
      "{'b': 2, 'a': 3}\n",
      "True\n",
      "{'p': 0}\n",
      "{'p': 0, 'w': 1}\n",
      "{'p': 0, 'w': 2}\n",
      "{'k': 3, 'p': 0, 'w': 2}\n",
      "{'k': 3, 'p': 0, 'e': 4, 'w': 2}\n",
      "{'k': 3, 'p': 0, 'e': 4, 'w': 5}\n",
      "True\n"
     ]
    }
   ],
   "source": [
    "class Solution:\n",
    "    def lengthOfLongestSubstring(self, s):\n",
    "        \"\"\"\n",
    "        :type s: str\n",
    "        :rtype: int\n",
    "        \"\"\"\n",
    "        rlen = 0\n",
    "        start = 0\n",
    "        trace = {}\n",
    "        for index, ch in enumerate(s):\n",
    "            if ch in trace and trace[ch] >= start:  #是否有重复字符,\n",
    "                rlen = max(rlen, index - start)      #计算现有索引表长度\n",
    "                #print(\"rlen = \",rlen)\n",
    "                start = trace[ch] + 1                #重新开始新一轮索引，更新start标识\n",
    "                #print(\"start = \",start)\n",
    "            trace[ch] = index                        #将新字符放入字典,会覆盖之前的值\n",
    "            #print(\"trace = \",trace[ch],\"ch = \",ch)\n",
    "            print(trace)\n",
    "        return max(rlen , len(s) - start)\n",
    "\n",
    "\n",
    "if __name__ == \"__main__\":\n",
    "    print(Solution().lengthOfLongestSubstring(\"abcabcbb\") == 3)\n",
    "    print(Solution().lengthOfLongestSubstring(\"abba\") == 2)\n",
    "    print(Solution().lengthOfLongestSubstring(\"pwwkew\") == 3)"
   ]
  },
  {
   "cell_type": "code",
   "execution_count": null,
   "metadata": {},
   "outputs": [],
   "source": []
  }
 ],
 "metadata": {
  "kernelspec": {
   "display_name": "Python 3",
   "language": "python",
   "name": "python3"
  },
  "language_info": {
   "codemirror_mode": {
    "name": "ipython",
    "version": 3
   },
   "file_extension": ".py",
   "mimetype": "text/x-python",
   "name": "python",
   "nbconvert_exporter": "python",
   "pygments_lexer": "ipython3",
   "version": "3.5.2"
  }
 },
 "nbformat": 4,
 "nbformat_minor": 2
}
