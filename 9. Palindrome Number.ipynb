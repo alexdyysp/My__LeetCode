{
 "cells": [
  {
   "cell_type": "code",
   "execution_count": 3,
   "metadata": {},
   "outputs": [
    {
     "name": "stdout",
     "output_type": "stream",
     "text": [
      "False\n",
      "False\n",
      "False\n",
      "False\n",
      "True\n"
     ]
    }
   ],
   "source": [
    "#\n",
    "class Solution:\n",
    "    def isPalindrome(self, x):\n",
    "        \"\"\"\n",
    "        :type x: int\n",
    "        :rtype: bool\n",
    "        \"\"\"\n",
    "        if x < 0 or (x != 0 and x % 10 == 0):\n",
    "            return False\n",
    "        half = 0\n",
    "        while x > half:\n",
    "            half = half * 10 + x % 10\n",
    "            x = int(x/10)\n",
    "        return (x == half or int(half / 10) == x)\n",
    "\n",
    "a1 = 123\n",
    "a2 = -123\n",
    "a3 = 210\n",
    "a4 = 241523555555555555\n",
    "a5 = 111\n",
    "print(Solution.isPalindrome(Solution,a1))\n",
    "print(Solution.isPalindrome(Solution,a2))\n",
    "print(Solution.isPalindrome(Solution,a3))\n",
    "print(Solution.isPalindrome(Solution,a4))\n",
    "print(Solution.isPalindrome(Solution,a5))\n",
    "\n"
   ]
  },
  {
   "cell_type": "code",
   "execution_count": null,
   "metadata": {},
   "outputs": [],
   "source": []
  }
 ],
 "metadata": {
  "kernelspec": {
   "display_name": "Python 3",
   "language": "python",
   "name": "python3"
  },
  "language_info": {
   "codemirror_mode": {
    "name": "ipython",
    "version": 3
   },
   "file_extension": ".py",
   "mimetype": "text/x-python",
   "name": "python",
   "nbconvert_exporter": "python",
   "pygments_lexer": "ipython3",
   "version": "3.5.2"
  }
 },
 "nbformat": 4,
 "nbformat_minor": 2
}
